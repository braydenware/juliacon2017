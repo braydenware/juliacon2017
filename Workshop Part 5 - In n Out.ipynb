{
 "cells": [
  {
   "cell_type": "markdown",
   "metadata": {},
   "source": [
    "Want a way to save/load our data.\n",
    "Can use HDF5 for maximum portability or JLD if we are comfortable staying in the Julia ecosystem.\n",
    "Some patterns we could use:\n",
    "\n",
    "1. Have every worker send their data to the driver, and have it write one file\n",
    "2. Have each worker write its own data file, then collate them at the end using some script\n",
    "3. Have a group of workers dedicated to collecting data and collating\n",
    "\n",
    "3 is intermediate between 1 and 2. Each one has advantages and disadvantages. 3 will let us show off some cool Julia features like `WorkerPool` and it's also the most difficult to get right, so let's do that!"
   ]
  },
  {
   "cell_type": "code",
   "execution_count": null,
   "metadata": {
    "collapsed": true
   },
   "outputs": [],
   "source": []
  },
  {
   "cell_type": "markdown",
   "metadata": {},
   "source": [
    "It's a good idea to keep track of what version of the code we used to generate the data. "
   ]
  }
 ],
 "metadata": {
  "kernelspec": {
   "display_name": "Julia 0.6.0-rc1",
   "language": "julia",
   "name": "julia-0.6"
  },
  "language_info": {
   "file_extension": ".jl",
   "mimetype": "application/julia",
   "name": "julia",
   "version": "0.6.0"
  }
 },
 "nbformat": 4,
 "nbformat_minor": 2
}
