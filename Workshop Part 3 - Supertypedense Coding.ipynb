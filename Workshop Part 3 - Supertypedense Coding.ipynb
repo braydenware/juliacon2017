{
 "cells": [
  {
   "cell_type": "markdown",
   "metadata": {},
   "source": [
    "# Fun With Types\n",
    "\n",
    "We haven't used any of Julia's lovely [sophisticated type system](https://docs.julialang.org/en/latest/manual/types.html). Let's fix that now. I will show some code and there are undoubtedly *many* possible improvements, which we'll leave (for now) as an **exercise**. If you want, believe that I'm leaving things simple for clarity, rather than because I'm a simple person."
   ]
  },
  {
   "cell_type": "code",
   "execution_count": null,
   "metadata": {
    "collapsed": true
   },
   "outputs": [],
   "source": [
    "abstract type Hamiltonian{T, S:<AbstractMatrix} <: AbstractArray{T,N} # Hamiltonians may be real or complex\n",
    "    L::Int\n",
    "    basis::Vector # may be a vector of BitVectors/BitMatrices/Vectors/Matrices\n",
    "    mat::S #this may be sparse, after all, or Diagonal, or something else\n",
    "end\n",
    "\n",
    "ishermitian(Hamiltonian) = true\n",
    "\n",
    "type TransverseFieldIsing{Tv} <: Hamiltonian{Tv}\n",
    "    h::Real\n",
    "    \n",
    "end"
   ]
  },
  {
   "cell_type": "markdown",
   "metadata": {},
   "source": [
    "## Exercise\n",
    "\n",
    "We have many similar models in physics, including the quantum XY and Heisenberg models. Write a type and some constructors for each. Analogous to what we did for the Ising model, find the transition - does it look the same for different system sizes? "
   ]
  },
  {
   "cell_type": "code",
   "execution_count": null,
   "metadata": {
    "collapsed": true
   },
   "outputs": [],
   "source": []
  }
 ],
 "metadata": {
  "kernelspec": {
   "display_name": "Julia 0.6.0-rc1",
   "language": "julia",
   "name": "julia-0.6"
  },
  "language_info": {
   "file_extension": ".jl",
   "mimetype": "application/julia",
   "name": "julia",
   "version": "0.6.0"
  }
 },
 "nbformat": 4,
 "nbformat_minor": 2
}
