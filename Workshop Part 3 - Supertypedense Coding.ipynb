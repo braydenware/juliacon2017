{
 "cells": [
  {
   "cell_type": "markdown",
   "metadata": {},
   "source": [
    "# Fun With Types\n",
    "\n",
    "We haven't used any of Julia's lovely [sophisticated type system](https://docs.julialang.org/en/latest/manual/types.html). Let's fix that now. I will show some code and there are undoubtedly *many* possible improvements, which we'll leave (for now) as an **exercise**. If you want, believe that I'm leaving things simple for clarity, rather than because I'm a simple person.\n",
    "\n",
    "## Goals of this section\n",
    "1. Meld our previous \"matrix maker\" functions with Julia types to make our code more flexible\n",
    "2. Make things more convenient by extending methods in `Base`\n",
    "3. Examine phase transitions in various physics models"
   ]
  },
  {
   "cell_type": "code",
   "execution_count": null,
   "metadata": {
    "collapsed": true
   },
   "outputs": [],
   "source": [
    "abstract type AbstractHamiltonian{T, S:<AbstractMatrix} <: AbstractArray{T,N} end\n",
    "# Hamiltonians may be real or complex, but are always Hermitian\n",
    "\n",
    "Base.ishermitian(A::AbstractHamiltonian) = true\n",
    "\n",
    "type TransverseFieldIsing{Tv, S <: AbstractMatrix} <: AbstractHamiltonian{Tv, S}\n",
    "    L::Int\n",
    "    basis::Vector # may be a vector of BitVectors/BitMatrices/Vectors/Matrices\n",
    "    mat::S #this may be sparse, or Diagonal, or something else\n",
    "    h::Real\n",
    "    function TransverseFieldIsing{Tv, S}(L::Integer, h::Real=0.) where Tv where S <: Matrix\n",
    "        basis = generate_basis(L)\n",
    "        H = zeros(2^L, 2^L)\n",
    "        for (index, element) in enumerate(basis)\n",
    "            # the diagonal part is easy\n",
    "            diag_term = 0.\n",
    "            for site in 1:L-1\n",
    "                diag_term -= !xor(element[site], element[site+1])\n",
    "            end\n",
    "            H[index, index] = diag_term\n",
    "            # off diagonal part\n",
    "            for site in 1:L-1\n",
    "                mask = falses(L)\n",
    "                mask[site] = true\n",
    "                new_element = xor.(element, mask)\n",
    "                new_index = int_rep(new_element, L)\n",
    "                H[index, new_index] = -h\n",
    "            end\n",
    "        end\n",
    "        new(L, basis, Hermitian(H), h)\n",
    "    end\n",
    "    function TransverseFieldIsing{Tv, S}(L::Integer, h::Real=0.) where Tv where S <: SparseMatrix\n",
    "    end\n",
    "end"
   ]
  },
  {
   "cell_type": "markdown",
   "metadata": {},
   "source": [
    "## Exercise\n",
    "\n",
    "Write the constructor for the `TransverseFieldIsing` type that generates a *sparse* representation of the matrix. We'll need this to go to bigger system sizes. Some suggestions:\n",
    "\n",
    "  1. Can we pre-allocate the arrays for the sparse matrix, since for this Hamiltonian we know *exactly* how many non-zero elements per row there could maximally be?\n",
    "  2. Generating the basis separately is pretty slow - can we fully enumerate it using the Hamiltonian as we generate each row?\n",
    "  3. It's probably a good idea to write some tests to make sure that our two representations match..."
   ]
  },
  {
   "cell_type": "code",
   "execution_count": null,
   "metadata": {
    "collapsed": true
   },
   "outputs": [],
   "source": [
    "# A little more fun with types\n",
    "Base.eigfact(A::TransverseFieldIsing; kwargs...) = eigfact(A.Mat; kwargs...)\n",
    "Base.eigvals(A::TransverseFieldIsing; kwargs...) = eigvals(A.Mat; kwargs...)\n",
    "Base.eigvecs(A::TransverseFieldIsing; kwargs...) = eigvecs(A.Mat; kwargs...)\n",
    "Base.eig(A::TransverseFieldIsing; kwargs...)     = eig(A.Mat; kwargs...)\n",
    "Base.size(A::TransverseFieldIsing)               = size(A.Mat)\n",
    "Base.size(A::TransverseFieldIsing, dim::Int)     = size(A.Mat, dim)\n",
    "Base.ndims(A::TransverseFieldIsing)              = 2\n",
    "Base.issparse(A::TransverseFieldIsing)           = issparse(A.Mat)"
   ]
  },
  {
   "cell_type": "markdown",
   "metadata": {},
   "source": [
    "We have many similar models in physics, including the quantum XY, XXZ, and Heisenberg models. These are more physically realistic models for the behaviour of spins. Now, the spins are free to rotate and may not point in the $\\hat{z}$ direction. This gives us a \"richer\" phase diagram and provides a better model of magnetism in real materials. Below, you'll find some more information about the models.\n",
    "\n",
    "The *Heisenberg model* has the Hamiltonian:\n",
    "\n",
    "$$ \\hat{H}_{Heis} = -\\sum_{\\langle i, j \\rangle} \\hat{\\vec{\\sigma}}_i \\cdot \\hat{\\vec{\\sigma}}_j = -\\sum_{\\langle i, j \\rangle} \\hat{\\sigma}_i^x \\hat{\\sigma}_j^x + \\hat{\\sigma}_i^y \\hat{\\sigma}_j^y + \\hat{\\sigma}_i^z \\hat{\\sigma}_j^z $$\n",
    "\n",
    "In the Heisenberg model, the spins would \"like to\" align in the same direction, but that direction could be any direction, and it *can move*. The overall magnetic moment may be rotating (as long as all the microscopic constituents are aligned). We say that the Heisenberg model has $SU(2)$ rotation symmetry (which is continuous) as opposed to the $\\mathbb{Z}_2$ *spin flip* symmetry (which is discrete) of the Ising model with no transverse field. The different symmetries give rise to very different physics.\n",
    "\n",
    "The $XXZ$ model introduces some *anisotropy* in the $\\hat{z}$ direction, so that:\n",
    "\n",
    "$$ \\hat{H}_{XXZ} = -\\sum_{\\langle i, j \\rangle} \\hat{\\sigma}_i^x \\hat{\\sigma}_j^x + \\hat{\\sigma}_i^y \\hat{\\sigma}_j^y +  \\Delta\\hat{\\sigma}_i^z \\hat{\\sigma}_j^z $$\n",
    "\n",
    "and finally, the $XY$ model sets $\\Delta = 0$ so that:\n",
    "\n",
    "$$ \\hat{H}_{XY} = -\\sum_{\\langle i, j \\rangle} \\hat{\\sigma}_i^x \\hat{\\sigma}_j^x + \\hat{\\sigma}_i^y \\hat{\\sigma}_j^y $$\n",
    "\n",
    "The $XY$ model supports a very interesting phase transition, the description of which recently [won a Nobel prize](https://www.nobelprize.org/nobel_prizes/physics/laureates/2016/advanced-physicsprize2016.pdf)."
   ]
  },
  {
   "cell_type": "code",
   "execution_count": null,
   "metadata": {
    "collapsed": true
   },
   "outputs": [],
   "source": [
    "type Heisenberg{Tv, S <: AbstractMatrix} <: AbstractHamiltonian{Tv, S}\n",
    "    L::Int\n",
    "    basis::Vector\n",
    "    Mat::S\n",
    "    function Heisenberg{Tv, S}(L::Integer) where Tv where S <: Matrix\n",
    "    end\n",
    "    function Heisenberg{Tv, S}(L::Integer) where Tv where S <: SparseMatrix\n",
    "    end\n",
    "end"
   ]
  },
  {
   "cell_type": "markdown",
   "metadata": {},
   "source": [
    "If you're following along at home and not pressed for time, feel free to try all of them, but if you're doing this with me let's focus on the XXZ model:\n",
    "\n",
    "$$ \\hat{H}_{XXZ} = -\\sum_{\\langle i, j \\rangle} \\hat{\\sigma}_i^x \\hat{\\sigma}_j^x + \\hat{\\sigma}_i^y \\hat{\\sigma}_j^y +  \\Delta\\hat{\\sigma}_i^z \\hat{\\sigma}_j^z $$\n",
    "\n",
    "$\\Delta$ is some real number between 0 and 1 that tunes the \"anisotropy\" of the system. To refresh our memories, the Pauli spin operators are:"
   ]
  },
  {
   "cell_type": "code",
   "execution_count": 1,
   "metadata": {},
   "outputs": [
    {
     "data": {
      "text/plain": [
       "2×2 Array{Int64,2}:\n",
       " 0  1\n",
       " 1  0"
      ]
     },
     "execution_count": 1,
     "metadata": {},
     "output_type": "execute_result"
    }
   ],
   "source": [
    "σˣ = [0 1; 1 0]"
   ]
  },
  {
   "cell_type": "code",
   "execution_count": 2,
   "metadata": {},
   "outputs": [
    {
     "data": {
      "text/plain": [
       "2×2 Array{Complex{Int64},2}:\n",
       " 0+0im  0-1im\n",
       " 0+1im  0+0im"
      ]
     },
     "execution_count": 2,
     "metadata": {},
     "output_type": "execute_result"
    }
   ],
   "source": [
    "σʸ = [0 -im; im 0]"
   ]
  },
  {
   "cell_type": "code",
   "execution_count": 3,
   "metadata": {},
   "outputs": [
    {
     "data": {
      "text/plain": [
       "2×2 Array{Int64,2}:\n",
       " 1   0\n",
       " 0  -1"
      ]
     },
     "execution_count": 3,
     "metadata": {},
     "output_type": "execute_result"
    }
   ],
   "source": [
    "σᶻ = [1 0; 0 -1]"
   ]
  },
  {
   "cell_type": "markdown",
   "metadata": {},
   "source": [
    "If you're having trouble picturing how these *bond operators* (the pairs of $\\sigma$s) should act, we can get Julia to help us:"
   ]
  },
  {
   "cell_type": "code",
   "execution_count": 5,
   "metadata": {},
   "outputs": [
    {
     "data": {
      "text/plain": [
       "4×4 Array{Int64,2}:\n",
       " 0  0  0  1\n",
       " 0  0  1  0\n",
       " 0  1  0  0\n",
       " 1  0  0  0"
      ]
     },
     "execution_count": 5,
     "metadata": {},
     "output_type": "execute_result"
    }
   ],
   "source": [
    "kron(σˣ,σˣ)"
   ]
  },
  {
   "cell_type": "code",
   "execution_count": 6,
   "metadata": {},
   "outputs": [
    {
     "data": {
      "text/plain": [
       "4×4 Array{Complex{Int64},2}:\n",
       "  0+0im  0+0im  0+0im  -1+0im\n",
       "  0+0im  0+0im  1+0im   0+0im\n",
       "  0+0im  1+0im  0+0im   0+0im\n",
       " -1+0im  0+0im  0+0im   0+0im"
      ]
     },
     "execution_count": 6,
     "metadata": {},
     "output_type": "execute_result"
    }
   ],
   "source": [
    "kron(σʸ,σʸ)"
   ]
  },
  {
   "cell_type": "markdown",
   "metadata": {},
   "source": [
    "We can actually make this much simpler to express in code using a little trick: rewrite in terms of the *raising and lowering operators* (also named *ladder operators*) $\\sigma^+$ and $\\sigma^-$:"
   ]
  },
  {
   "cell_type": "code",
   "execution_count": 7,
   "metadata": {},
   "outputs": [
    {
     "data": {
      "text/plain": [
       "2×2 Array{Complex{Float64},2}:\n",
       " 0.0+0.0im  1.0+0.0im\n",
       " 0.0+0.0im  0.0+0.0im"
      ]
     },
     "execution_count": 7,
     "metadata": {},
     "output_type": "execute_result"
    }
   ],
   "source": [
    "σ⁺ = (σˣ + im*σʸ)/2"
   ]
  },
  {
   "cell_type": "code",
   "execution_count": 9,
   "metadata": {},
   "outputs": [
    {
     "data": {
      "text/plain": [
       "2-element Array{Complex{Float64},1}:\n",
       " 1.0+0.0im\n",
       " 0.0+0.0im"
      ]
     },
     "execution_count": 9,
     "metadata": {},
     "output_type": "execute_result"
    }
   ],
   "source": [
    "σ⁺*[0,1]"
   ]
  },
  {
   "cell_type": "code",
   "execution_count": 10,
   "metadata": {},
   "outputs": [
    {
     "data": {
      "text/plain": [
       "2-element Array{Complex{Float64},1}:\n",
       " 0.0+0.0im\n",
       " 0.0+0.0im"
      ]
     },
     "execution_count": 10,
     "metadata": {},
     "output_type": "execute_result"
    }
   ],
   "source": [
    "σ⁺*[1,0]"
   ]
  },
  {
   "cell_type": "code",
   "execution_count": 8,
   "metadata": {},
   "outputs": [
    {
     "data": {
      "text/plain": [
       "2×2 Array{Complex{Float64},2}:\n",
       " 0.0+0.0im  0.0+0.0im\n",
       " 1.0+0.0im  0.0+0.0im"
      ]
     },
     "execution_count": 8,
     "metadata": {},
     "output_type": "execute_result"
    }
   ],
   "source": [
    "σ⁻ = (σˣ - im*σʸ)/2"
   ]
  },
  {
   "cell_type": "markdown",
   "metadata": {},
   "source": [
    "Which turns our Hamiltonian into (you can work this out by hand if you like):\n",
    "\n",
    "$$ \\hat{H}_{XXZ} = -\\sum_{\\langle i, j \\rangle} 4\\hat{\\sigma}_i^+ \\hat{\\sigma}_j^- + 4\\hat{\\sigma}_i^- \\hat{\\sigma}_j^+ +  \\Delta\\hat{\\sigma}_i^z \\hat{\\sigma}_j^z $$\n",
    "\n",
    "Hopefully you can see why expressing it this way will be easier to implement with the bit-hacks. If you were doing everything with the matrix-vector ops this wouldn't matter but that doesn't scale well. Now you can turn this into a function to make the XXZ model.\n",
    "\n",
    "## Exercise\n",
    "\n",
    "Write a type and some constructors for each of the XXZ, XY, and Heisenberg models. Analogous to what we did for the Ising model, find the transition - does it look the same for different system sizes? You might be able to replicate some of your work by writing a few functions for \"common\" bond operations. The ladder operators will make this code much easier to write (hint: you do not need complex numbers).\n",
    "\n",
    "**If you get stuck:**\n",
    "\n",
    "Generically in a physics code *constructing* the Hamiltonian takes much less time than *solving* its eigensystem, so it's ok to do things in a \"less optimal\" way that is conceptually simpler for you, especially since no one has publications riding on this workshop. Some suggestions, if you don't know how to start:\n",
    "\n",
    "1. Remember in the previous part, how we added up all the `kron`-ed together matrices? For each bond (pair of sites) you can construct the full $(2^L, 2^L)$ matrix for just that bond and then add up all the (sparse) matrices - for small systems, this is a good way to check your work.\n",
    "2. We need to check if a bond is \"flippable\", that is, is one spin up and the other down? For traditional/obfuscatory/performance reasons this is often done in one line with `xor` *but* if you want to precompute a truth table OR write 4 `if-else` lines that is fine!\n",
    "3. Also, if you're finding it hard to reason about how the bit and integer representations connect, it's fine to explicitly convert back and forth. You can go index by index, converting each to a bit representation (a `Vector{Bool}` might be less confusing), and seeing for each one what moves to other bit representations are possible. Then you can convert those bit representations back to integer representations, fill in the matrix, and continue.\n",
    "4. You might find it most efficient to do something like:\n",
    "\n",
    "```julia\n",
    "function σ⁺σ⁻(input_config)\n",
    "    \n",
    "end\n",
    "\n",
    "function σ⁻σ⁺(input_config)\n",
    "    \n",
    "end\n",
    "\n",
    "function σᶻσᶻ(input_config)\n",
    "    \n",
    "end\n",
    "\n",
    "function possible_moves(input_config_index, basis)\n",
    "    input_config = basis[input_config_index]\n",
    "    # diagonal term\n",
    "    \n",
    "    # off diagonal terms\n",
    "    flipped_config_a = σ⁺σ⁻(input_config)\n",
    "    flipped_config_b = σ⁻σ⁺(input_config)\n",
    "    \n",
    "    # you'll need to find the indices of these new configurations in the basis...\n",
    "    index_a = convert_bit_rep_to_index(flipped_config_a)\n",
    "    H[input_config_index, index_a] = ...\n",
    "end\n",
    "```\n",
    "\n",
    "**Note** if this is taking too long/you want to see more of the physics but don't have time to write code for all the models, split off into teams of 2-3! One person can do XXZ, one can do Heisenberg, etc."
   ]
  },
  {
   "cell_type": "code",
   "execution_count": null,
   "metadata": {
    "collapsed": true
   },
   "outputs": [],
   "source": [
    "type XXZ{Tv, S <: AbstractMatrix} <: AbstractHamiltonian{Tv, S}\n",
    "    L::Int\n",
    "    basis::Vector\n",
    "    Mat::S\n",
    "    Δ::Tv\n",
    "    function XXZ{Tv, S}(L::Integer, Δ::Tv) where Tv where S <: Matrix\n",
    "    end\n",
    "    function XXZ{Tv, S}(L::Integer, Δ::Tv) where Tv where S <: SparseMatrix\n",
    "    end\n",
    "end"
   ]
  },
  {
   "cell_type": "markdown",
   "metadata": {},
   "source": [
    "We should make sure that our models are working before anything else.\n",
    "You'll probably want to extend the eigenfactorization functions for these models the same way we did for `TransverseFieldIsing`.\n",
    "\n",
    "### Exercise\n",
    "Check that if you set $\\Delta$ large (small) enough, the $XXZ$ model has non-zero (zero) magnetization (you can reuse your code from the previous parts). Note that $\\Delta = 0$ corresponds to the $XY$ model. Make sure that when $\\Delta = 0$ ($XY$) or when $\\Delta = 1$ (Heisenberg model) your energies for all three match up."
   ]
  },
  {
   "cell_type": "code",
   "execution_count": null,
   "metadata": {
    "collapsed": true
   },
   "outputs": [],
   "source": []
  }
 ],
 "metadata": {
  "kernelspec": {
   "display_name": "Julia 0.6.0-rc1",
   "language": "julia",
   "name": "julia-0.6"
  },
  "language_info": {
   "file_extension": ".jl",
   "mimetype": "application/julia",
   "name": "julia",
   "version": "0.6.0"
  }
 },
 "nbformat": 4,
 "nbformat_minor": 2
}
