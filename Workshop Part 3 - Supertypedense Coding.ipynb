{
 "cells": [
  {
   "cell_type": "markdown",
   "metadata": {},
   "source": [
    "# Fun With Types\n",
    "\n",
    "We haven't used any of Julia's lovely [sophisticated type system](https://docs.julialang.org/en/latest/manual/types.html). Let's fix that now. I will show some code and there are undoubtedly *many* possible improvements, which we'll leave (for now) as an **exercise**. If you want, believe that I'm leaving things simple for clarity, rather than because I'm a simple person."
   ]
  },
  {
   "cell_type": "code",
   "execution_count": null,
   "metadata": {
    "collapsed": true
   },
   "outputs": [],
   "source": [
    "abstract type AbstractHamiltonian{T, S:<AbstractMatrix} <: AbstractArray{T,N} end\n",
    "# Hamiltonians may be real or complex\n",
    "\n",
    "type SpinHamiltonian{T, S:<AbstractMatrix} <: AbstractHamiltonian\n",
    "    L::Int\n",
    "    basis::Vector # may be a vector of BitVectors/BitMatrices/Vectors/Matrices\n",
    "    mat::S #this may be sparse, or Diagonal, or something else\n",
    "end\n",
    "\n",
    "ishermitian(Hamiltonian) = true\n",
    "\n",
    "type TransverseFieldIsing{Tv, S} <: SpinHamiltonian{Tv, S}\n",
    "    L::Int\n",
    "    basis::Vector # may be a vector of BitVectors/BitMatrices/Vectors/Matrices\n",
    "    mat::S #this may be sparse, or Diagonal, or something else\n",
    "    h::Real\n",
    "    function TransverseFieldIsing{Tv, S}(L::Integer, h::Real=0.) where Tv where S <: Matrix\n",
    "        basis = generate_basis(L)\n",
    "        H = zeros(2^L, 2^L)\n",
    "        for (index, element) in enumerate(basis)\n",
    "            # the diagonal part is easy\n",
    "            diag_term = 0.\n",
    "            for site in 1:L-1\n",
    "                diag_term -= !xor(element[site], element[site+1])\n",
    "            end\n",
    "            H[index, index] = diag_term\n",
    "            # off diagonal part\n",
    "            for site in 1:L-1\n",
    "                mask = falses(L)\n",
    "                mask[site] = true\n",
    "                new_element = xor.(element, mask)\n",
    "                new_index = int_rep(new_element, L)\n",
    "                H[index, new_index] = -h\n",
    "            end\n",
    "        end\n",
    "        new(L, basis, Hermitian(H), h)\n",
    "    end\n",
    "    #function TransverseFieldIsing{Tv, S}(L::Integer, h::Real=0.) where Tv where S <: SparseMatrix\n",
    "    #end\n",
    "end"
   ]
  },
  {
   "cell_type": "markdown",
   "metadata": {},
   "source": [
    "## Exercise\n",
    "\n",
    "Write the constructor for the `TransverseFieldIsing` type that generates a *sparse* representation of the matrix. We'll need this to go to bigger system sizes. Some suggestions:\n",
    "\n",
    "  1. Can we pre-allocate the arrays for the sparse matrix, since for this Hamiltonian we know *exactly* how many non-zero elements per row there could maximally be?\n",
    "  2. Generating the basis separately is pretty slow - can we fully enumerate it using the Hamiltonian as we generate each row?\n",
    "  3. It's probably a good idea to write some tests to make sure that our two representations match..."
   ]
  },
  {
   "cell_type": "code",
   "execution_count": null,
   "metadata": {
    "collapsed": true
   },
   "outputs": [],
   "source": [
    "# A little more fun with types\n",
    "eigfact(A::TransverseFieldIsing; kwargs...) = eigfact(A.Mat; kwargs...)\n",
    "eigvals(A::TransverseFieldIsing; kwargs...) = eigvals(A.Mat; kwargs...)\n",
    "eigvecs(A::TransverseFieldIsing; kwargs...) = eigvecs(A.Mat; kwargs...)\n",
    "eig(A::TransverseFieldIsing; kwargs...)     = eig(A.Mat; kwargs...)"
   ]
  },
  {
   "cell_type": "markdown",
   "metadata": {},
   "source": [
    "## Exercise\n",
    "\n",
    "We have many similar models in physics, including the quantum XY, XXZ, and Heisenberg models. Write a type and some constructors for each. Analogous to what we did for the Ising model, find the transition - does it look the same for different system sizes? You might be able to replicate some of your work by writing a few functions for \"common\" bond operations."
   ]
  },
  {
   "cell_type": "code",
   "execution_count": null,
   "metadata": {
    "collapsed": true
   },
   "outputs": [],
   "source": [
    "type Heisenberg{Tv, S} <: SpinHamiltonian{Tv, S}\n",
    "    L::Int\n",
    "    basis::Vector\n",
    "    mat::S\n",
    "    #function Heisenberg{Tv, S}(L::Integer) where Tv where S <: Matrix\n",
    "    #end\n",
    "    #function Heisenberg{Tv, S}(L::Integer) where Tv where S <: SparseMatrix\n",
    "    #end\n",
    "end"
   ]
  },
  {
   "cell_type": "markdown",
   "metadata": {},
   "source": [
    "Below, you'll find some more information about the models. If you're following along at home and not pressed for time, feel free to try all of them, but if you're doing this with me let's focus on the XXZ model:\n",
    "\n",
    "$$ \\hat{H} = -\\sum_{\\langle i, j \\rangle} \\hat{\\sigma}_i^x \\hat{\\sigma}_j^x + \\hat{\\sigma}_i^y \\hat{\\sigma}_j^y +  \\Delta\\hat{\\sigma}_i^z \\hat{\\sigma}_j^z $$\n",
    "\n",
    "$\\Delta$ is some real number between 0 and 1 that tunes the \"anisotropy\" of the system. To refresh our memories, the Pauli spin operators are:"
   ]
  },
  {
   "cell_type": "code",
   "execution_count": 1,
   "metadata": {},
   "outputs": [
    {
     "data": {
      "text/plain": [
       "2×2 Array{Int64,2}:\n",
       " 0  1\n",
       " 1  0"
      ]
     },
     "execution_count": 1,
     "metadata": {},
     "output_type": "execute_result"
    }
   ],
   "source": [
    "σˣ = [0 1; 1 0]"
   ]
  },
  {
   "cell_type": "code",
   "execution_count": 2,
   "metadata": {},
   "outputs": [
    {
     "data": {
      "text/plain": [
       "2×2 Array{Complex{Int64},2}:\n",
       " 0+0im  0-1im\n",
       " 0+1im  0+0im"
      ]
     },
     "execution_count": 2,
     "metadata": {},
     "output_type": "execute_result"
    }
   ],
   "source": [
    "σʸ = [0 -im; im 0]"
   ]
  },
  {
   "cell_type": "code",
   "execution_count": 3,
   "metadata": {},
   "outputs": [
    {
     "data": {
      "text/plain": [
       "2×2 Array{Int64,2}:\n",
       " 1   0\n",
       " 0  -1"
      ]
     },
     "execution_count": 3,
     "metadata": {},
     "output_type": "execute_result"
    }
   ],
   "source": [
    "σᶻ = [1 0; 0 -1]"
   ]
  },
  {
   "cell_type": "markdown",
   "metadata": {},
   "source": [
    "If you're having trouble picturing how these *bond operators* (the pairs of $\\sigma$s) should act, we can get Julia to help us:"
   ]
  },
  {
   "cell_type": "code",
   "execution_count": 5,
   "metadata": {},
   "outputs": [
    {
     "data": {
      "text/plain": [
       "4×4 Array{Int64,2}:\n",
       " 0  0  0  1\n",
       " 0  0  1  0\n",
       " 0  1  0  0\n",
       " 1  0  0  0"
      ]
     },
     "execution_count": 5,
     "metadata": {},
     "output_type": "execute_result"
    }
   ],
   "source": [
    "kron(σˣ,σˣ)"
   ]
  },
  {
   "cell_type": "code",
   "execution_count": 6,
   "metadata": {},
   "outputs": [
    {
     "data": {
      "text/plain": [
       "4×4 Array{Complex{Int64},2}:\n",
       "  0+0im  0+0im  0+0im  -1+0im\n",
       "  0+0im  0+0im  1+0im   0+0im\n",
       "  0+0im  1+0im  0+0im   0+0im\n",
       " -1+0im  0+0im  0+0im   0+0im"
      ]
     },
     "execution_count": 6,
     "metadata": {},
     "output_type": "execute_result"
    }
   ],
   "source": [
    "kron(σʸ,σʸ)"
   ]
  },
  {
   "cell_type": "markdown",
   "metadata": {},
   "source": [
    "We can actually make this much simpler to express in code using a little trick: rewrite in terms of the *raising and lowering operators* $\\sigma^+$ and $\\sigma^-$:"
   ]
  },
  {
   "cell_type": "code",
   "execution_count": 7,
   "metadata": {},
   "outputs": [
    {
     "data": {
      "text/plain": [
       "2×2 Array{Complex{Float64},2}:\n",
       " 0.0+0.0im  1.0+0.0im\n",
       " 0.0+0.0im  0.0+0.0im"
      ]
     },
     "execution_count": 7,
     "metadata": {},
     "output_type": "execute_result"
    }
   ],
   "source": [
    "σ⁺ = (σˣ + im*σʸ)/2"
   ]
  },
  {
   "cell_type": "code",
   "execution_count": 9,
   "metadata": {},
   "outputs": [
    {
     "data": {
      "text/plain": [
       "2-element Array{Complex{Float64},1}:\n",
       " 1.0+0.0im\n",
       " 0.0+0.0im"
      ]
     },
     "execution_count": 9,
     "metadata": {},
     "output_type": "execute_result"
    }
   ],
   "source": [
    "σ⁺*[0,1]"
   ]
  },
  {
   "cell_type": "code",
   "execution_count": 10,
   "metadata": {},
   "outputs": [
    {
     "data": {
      "text/plain": [
       "2-element Array{Complex{Float64},1}:\n",
       " 0.0+0.0im\n",
       " 0.0+0.0im"
      ]
     },
     "execution_count": 10,
     "metadata": {},
     "output_type": "execute_result"
    }
   ],
   "source": [
    "σ⁺*[1,0]"
   ]
  },
  {
   "cell_type": "code",
   "execution_count": 8,
   "metadata": {},
   "outputs": [
    {
     "data": {
      "text/plain": [
       "2×2 Array{Complex{Float64},2}:\n",
       " 0.0+0.0im  0.0+0.0im\n",
       " 1.0+0.0im  0.0+0.0im"
      ]
     },
     "execution_count": 8,
     "metadata": {},
     "output_type": "execute_result"
    }
   ],
   "source": [
    "σ⁻ = (σˣ - im*σʸ)/2"
   ]
  },
  {
   "cell_type": "markdown",
   "metadata": {},
   "source": [
    "Which turns our Hamiltonian into (you can work this out by hand if you like):\n",
    "\n",
    "$$ \\hat{H}_{XXZ} = -\\sum_{\\langle i, j \\rangle} 4\\hat{\\sigma}_i^+ \\hat{\\sigma}_j^- + 4\\hat{\\sigma}_i^- \\hat{\\sigma}_j^+ +  \\Delta\\hat{\\sigma}_i^z \\hat{\\sigma}_j^z $$\n",
    "\n",
    "Hopefully you can see why expressing it this way will be easier to implement with the bit-hacks. If you were doing everything with the matrix-vector ops this wouldn't matter but that doesn't scale super well. Now you can turn this into a function to make the XXZ model."
   ]
  },
  {
   "cell_type": "code",
   "execution_count": null,
   "metadata": {
    "collapsed": true
   },
   "outputs": [],
   "source": []
  }
 ],
 "metadata": {
  "kernelspec": {
   "display_name": "Julia 0.6.0-rc1",
   "language": "julia",
   "name": "julia-0.6"
  },
  "language_info": {
   "file_extension": ".jl",
   "mimetype": "application/julia",
   "name": "julia",
   "version": "0.6.0"
  }
 },
 "nbformat": 4,
 "nbformat_minor": 2
}
