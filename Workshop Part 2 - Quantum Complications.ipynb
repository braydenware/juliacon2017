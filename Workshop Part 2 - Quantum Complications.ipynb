{
 "cells": [
  {
   "cell_type": "markdown",
   "metadata": {},
   "source": [
    "Now we want to add in some quantum features. Essentially what we will do is add some more interactions (super/sub-diagonals) such that the matrix (Hamiltonian) is no longer diagonal in the computation basis. In general this will make finding the lowest energy state very hard! The model we will study is called the *transverse field quantum Ising model*:\n",
    "\n",
    "$$ \\hat{H} = -\\sum_{\\langle i, j \\rangle} \\hat{\\sigma}_i^z \\hat{\\sigma}_j^z - h\\sum_i \\hat{\\sigma}_i^x $$\n",
    "\n",
    "Now, instead of just being *numbers* the $\\hat{\\sigma}$ are 2x2 *matrices*. I've neglected to write a bunch of outer products with the identity. What's going on is that $\\hat{\\sigma}_x$ acts as a \"flipper\", taking up spins to down and vice versa:\n",
    "\n",
    "$$ \\hat{\\sigma}^x\\left| 1 \\right\\rangle = \\left| 0 \\right\\rangle $$\n",
    "\n",
    "and\n",
    "\n",
    "$$ \\hat{\\sigma}^x\\left| 0 \\right\\rangle = \\left| 1 \\right\\rangle $$\n",
    "\n",
    "Clearly, the addition of a bunch of these means our resulting $\\hat{H}$ above is *not* diagonal in the simluation basis, at least as long as $h$ is nonzero. (If you need to convince yourself, write out the full 4x4 $\\hat{H}$ for a system with just 2 sites.)\n",
    "\n",
    "$h$ controls how likely it is we will flip a particular site. We will use our simulation to investigate its effects. It's easy to write code to *generate* this matrix:"
   ]
  },
  {
   "cell_type": "code",
   "execution_count": 1,
   "metadata": {},
   "outputs": [
    {
     "data": {
      "text/plain": [
       "2×2 Array{Int64,2}:\n",
       " 1   0\n",
       " 0  -1"
      ]
     },
     "execution_count": 1,
     "metadata": {},
     "output_type": "execute_result"
    }
   ],
   "source": [
    "σᶻ = [1 0; 0 -1]"
   ]
  },
  {
   "cell_type": "code",
   "execution_count": 2,
   "metadata": {},
   "outputs": [
    {
     "data": {
      "text/plain": [
       "2×2 Array{Int64,2}:\n",
       " 0  1\n",
       " 1  0"
      ]
     },
     "execution_count": 2,
     "metadata": {},
     "output_type": "execute_result"
    }
   ],
   "source": [
    "σˣ = [0 1; 1 0]"
   ]
  },
  {
   "cell_type": "code",
   "execution_count": 3,
   "metadata": {},
   "outputs": [
    {
     "data": {
      "text/plain": [
       "2-element Array{Int64,1}:\n",
       " 0\n",
       " 1"
      ]
     },
     "execution_count": 3,
     "metadata": {},
     "output_type": "execute_result"
    }
   ],
   "source": [
    "σˣ * [1,0]"
   ]
  },
  {
   "cell_type": "code",
   "execution_count": 4,
   "metadata": {},
   "outputs": [
    {
     "data": {
      "text/plain": [
       "2-element Array{Int64,1}:\n",
       " 1\n",
       " 0"
      ]
     },
     "execution_count": 4,
     "metadata": {},
     "output_type": "execute_result"
    }
   ],
   "source": [
    "σˣ * [0, 1]"
   ]
  },
  {
   "cell_type": "code",
   "execution_count": 5,
   "metadata": {},
   "outputs": [
    {
     "data": {
      "text/plain": [
       "4×4 Array{Int64,2}:\n",
       " 1   0   0  0\n",
       " 0  -1   0  0\n",
       " 0   0  -1  0\n",
       " 0   0   0  1"
      ]
     },
     "execution_count": 5,
     "metadata": {},
     "output_type": "execute_result"
    }
   ],
   "source": [
    "kron(σᶻ,σᶻ) # this is σᶻᵢ σᶻⱼ"
   ]
  },
  {
   "cell_type": "code",
   "execution_count": 8,
   "metadata": {},
   "outputs": [
    {
     "data": {
      "text/plain": [
       "16×16 Array{Float64,2}:\n",
       " -3.0  -0.0  -2.0  -0.0  -2.0  -0.0  …  -0.0  -0.0  -0.0  -0.0  -0.0  -0.0\n",
       " -0.0  -1.0  -0.0  -2.0  -0.0  -2.0     -0.0  -0.0  -0.0   0.0  -0.0  -0.0\n",
       " -2.0  -0.0   1.0   0.0  -0.0  -0.0     -2.0   0.0  -0.0  -0.0   0.0  -0.0\n",
       " -0.0  -2.0   0.0  -1.0  -0.0  -0.0      0.0  -2.0  -0.0  -0.0  -0.0  -0.0\n",
       " -2.0  -0.0  -0.0  -0.0   1.0   0.0     -0.0  -0.0  -2.0   0.0  -0.0  -0.0\n",
       " -0.0  -2.0  -0.0  -0.0   0.0   3.0  …  -0.0  -0.0   0.0  -2.0  -0.0  -0.0\n",
       " -0.0  -0.0  -2.0  -0.0  -2.0   0.0      0.0  -0.0  -0.0  -0.0  -2.0  -0.0\n",
       " -0.0  -0.0  -0.0  -2.0   0.0  -2.0     -0.0  -0.0  -0.0  -0.0  -0.0  -2.0\n",
       " -2.0  -0.0  -0.0  -0.0  -0.0  -0.0     -2.0   0.0  -2.0  -0.0  -0.0  -0.0\n",
       " -0.0  -2.0  -0.0  -0.0  -0.0   0.0      0.0  -2.0  -0.0  -2.0  -0.0  -0.0\n",
       " -0.0  -0.0  -2.0   0.0  -0.0  -0.0  …   3.0   0.0  -0.0  -0.0  -2.0  -0.0\n",
       " -0.0  -0.0   0.0  -2.0  -0.0  -0.0      0.0   1.0  -0.0  -0.0  -0.0  -2.0\n",
       " -0.0  -0.0  -0.0  -0.0  -2.0   0.0     -0.0  -0.0  -1.0   0.0  -2.0  -0.0\n",
       " -0.0   0.0  -0.0  -0.0   0.0  -2.0     -0.0  -0.0   0.0   1.0  -0.0  -2.0\n",
       " -0.0  -0.0   0.0  -0.0  -0.0  -0.0     -2.0  -0.0  -2.0  -0.0  -1.0  -0.0\n",
       " -0.0  -0.0  -0.0  -0.0  -0.0  -0.0  …  -0.0  -2.0  -0.0  -2.0  -0.0  -3.0"
      ]
     },
     "execution_count": 8,
     "metadata": {},
     "output_type": "execute_result"
    }
   ],
   "source": [
    "# An example of a 4 site Hamiltonian\n",
    "\n",
    "H = -kron(kron(kron(σᶻ,σᶻ), eye(2)), eye(2)) - kron(eye(2), kron(kron(σᶻ,σᶻ), eye(2))) - kron(eye(2), kron(eye(2),kron(σᶻ,σᶻ)))\n",
    "H -= 2*(kron(kron(kron(σˣ, eye(2)), eye(2)), eye(2)) + kron(eye(2), kron(kron(σˣ, eye(2)), eye(2))) + kron(eye(2), kron(eye(2), kron(σˣ, eye(2)))))"
   ]
  },
  {
   "cell_type": "markdown",
   "metadata": {},
   "source": [
    "Gross! We can save on storage space by using Julia's native `BitArray` type. We can even build our basis the naive way and convert it at some up-front performance cost. Or, we can build the list of `BitArray`s ourselves:"
   ]
  },
  {
   "cell_type": "code",
   "execution_count": 1,
   "metadata": {},
   "outputs": [
    {
     "data": {
      "text/plain": [
       "TransverseFieldIsing (generic function with 2 methods)"
      ]
     },
     "execution_count": 1,
     "metadata": {},
     "output_type": "execute_result"
    }
   ],
   "source": [
    "function bit_rep(element::Integer, L::Integer)\n",
    "    bit_rep = falses(L)\n",
    "    for site in 1:L\n",
    "       bit_rep[site] = (element >> (site - 1)) & 1\n",
    "    end\n",
    "    return bit_rep\n",
    "end\n",
    "\n",
    "function int_rep(element::BitVector, L::Integer)\n",
    "    int = 1\n",
    "    for site in 1:L\n",
    "       int += (element[site] << (site - 1))\n",
    "    end\n",
    "    return int\n",
    "end\n",
    "\n",
    "function generate_basis(L::Integer)\n",
    "    basis = fill(falses(L), 2^L)\n",
    "    for elem in 1:2^L\n",
    "        basis[elem] = bit_rep(elem, L)\n",
    "    end\n",
    "    return basis\n",
    "end\n",
    "\n",
    "function TransverseFieldIsing(L::Integer, h::Real=0.)\n",
    "    basis = generate_basis(L)\n",
    "    H = zeros(2^L, 2^L)\n",
    "    for (index, element) in enumerate(basis)\n",
    "        # the diagonal part is easy\n",
    "        diag_term = 0.\n",
    "        for site in 1:L-1\n",
    "            diag_term -= !xor(element[site], element[site+1])\n",
    "        end\n",
    "        H[index, index] = diag_term\n",
    "        # off diagonal part\n",
    "        for site in 1:L-1\n",
    "            mask = falses(L)\n",
    "            mask[site] = true\n",
    "            new_element = xor.(element, mask)\n",
    "            new_index = int_rep(new_element, L)\n",
    "            H[index, new_index] = -h\n",
    "        end\n",
    "    end\n",
    "    return Hermitian(H), basis\n",
    "end"
   ]
  },
  {
   "cell_type": "markdown",
   "metadata": {},
   "source": [
    "Some things to note:\n",
    "- This matrix is very sparse! That's pretty generic to quantum systems, and it's a mixed blessing.\n",
    "- For larger systems, it may make sense to use the Julia sparse matrix types (we'll see how to do this shortly).\n",
    "- For now we have set $h$ to be the same everywhere. We aren't *forced* to do this - we could introduce *disorder* and see more interesting physics. This is a good **exercise** for interested non-physicists.\n",
    "\n",
    "We can still use Julia's linear algebra methods like `eigfact`, of course, they'll just be slower:"
   ]
  },
  {
   "cell_type": "code",
   "execution_count": 2,
   "metadata": {},
   "outputs": [
    {
     "name": "stdout",
     "output_type": "stream",
     "text": [
      "  0.358076 seconds (72.14 k allocations: 5.631 MiB, 24.65% gc time)\n"
     ]
    },
    {
     "data": {
      "text/plain": [
       "Base.LinAlg.Eigen{Float64,Float64,Array{Float64,2},Array{Float64,1}}([-10.1634, -9.97258, -8.85079, -8.57048, -8.50815, -8.35801, -8.09964, -8.09511, -7.78885, -7.73286  …  2.67879, 2.74717, 2.80552, 2.92148, 3.25234, 3.27357, 3.38151, 3.41845, 3.49801, 3.5997], [-0.0141714 -0.066122 … -0.0914145 0.0254545; -0.0212904 -0.0997415 … 0.018321 0.00453354; … ; -0.0782906 0.0249041 … 0.0370397 0.0368878; -0.18211 0.0647595 … -0.00520433 -0.0109567])"
      ]
     },
     "execution_count": 2,
     "metadata": {},
     "output_type": "execute_result"
    }
   ],
   "source": [
    "H, basis = TransverseFieldIsing(8, 1.)\n",
    "@time eigfact(H)"
   ]
  },
  {
   "cell_type": "markdown",
   "metadata": {},
   "source": [
    "## Dude, Where's My Parallelism?\n",
    "\n",
    "For many interesting physical problems (one of which we're about to see) we *don't need* to use multiple nodes anymore. This is good - parallel computing is really cool but it's also really difficult to do well! The promised parallelism is coming! But we should all be happy we can practically look at (some) many-body physics with doing many-body computing (yet)."
   ]
  },
  {
   "cell_type": "markdown",
   "metadata": {},
   "source": [
    "## It's Just a Phase\n",
    "\n",
    "Let's vary $h$ and see what happens. Since we're looking at *quantum magnets* we will compute the *overall magnetization*. This quantity is:\n",
    "\n",
    "$$ M = \\frac{1}{N}\\sum_{i} \\sigma^z_i $$\n",
    "\n",
    "where $\\sigma^z_i$ is the value of the spin on site $i$ when we measure. If $M$ is 0 there is no overall magnetic moment. We divide by the number of sites so that we can compare results for various systems. Since we're using `0` to represent spin down ($\\sigma^z = -1$), and `1` to represent spin up ($\\sigma^z = +1$), in our code this will look like:"
   ]
  },
  {
   "cell_type": "code",
   "execution_count": 24,
   "metadata": {},
   "outputs": [
    {
     "data": {
      "text/plain": [
       "magnetization (generic function with 2 methods)"
      ]
     },
     "execution_count": 24,
     "metadata": {},
     "output_type": "execute_result"
    }
   ],
   "source": [
    "function magnetization(state::Vector, basis)::Float64\n",
    "    M = 0.\n",
    "    for (index, element) in enumerate(basis)\n",
    "        element_M = 0.\n",
    "        for spin in element\n",
    "            element_M += (state[index]^2 * (spin ? 1 : -1))/length(element)\n",
    "        end\n",
    "        @assert abs(element_M) <= 1\n",
    "        M += abs(element_M)\n",
    "    end\n",
    "    return M\n",
    "end"
   ]
  },
  {
   "cell_type": "markdown",
   "metadata": {},
   "source": [
    "Now we would like to examine the effects of $h$. We will:\n",
    "  1. Find a variety of $h$ to look at.\n",
    "  2. For each, compute the *lowest energy eigenvector* (groundstate) of the corresponding Hamiltonian.\n",
    "  3. For each groundstate, compute the overall magnetization $M$.\n",
    "  4. Plot $M(h)$ for a variety of system sizes, and see if anything cool happens."
   ]
  },
  {
   "cell_type": "code",
   "execution_count": 25,
   "metadata": {},
   "outputs": [
    {
     "name": "stderr",
     "output_type": "stream",
     "text": [
      "\u001b[1m\u001b[33mWARNING: \u001b[39m\u001b[22m\u001b[33mArray{T}(::Type{T}, m::Int) is deprecated, use Array{T}(m) instead.\u001b[39m\n",
      "Stacktrace:\n",
      " [1] \u001b[1mdepwarn\u001b[22m\u001b[22m\u001b[1m(\u001b[22m\u001b[22m::String, ::Symbol\u001b[1m)\u001b[22m\u001b[22m at \u001b[1m./deprecated.jl:64\u001b[22m\u001b[22m\n",
      " [2] \u001b[1mArray\u001b[22m\u001b[22m\u001b[1m(\u001b[22m\u001b[22m::Type{Float64}, ::Int64\u001b[1m)\u001b[22m\u001b[22m at \u001b[1m./deprecated.jl:51\u001b[22m\u001b[22m\n",
      " [3] \u001b[1mindices\u001b[22m\u001b[22m at \u001b[1m./abstractarray.jl:57\u001b[22m\u001b[22m [inlined]\n",
      " [4] \u001b[1mindices1\u001b[22m\u001b[22m at \u001b[1m./abstractarray.jl:64\u001b[22m\u001b[22m [inlined]\n",
      " [5] \u001b[1mlinearindices\u001b[22m\u001b[22m at \u001b[1m./abstractarray.jl:92\u001b[22m\u001b[22m [inlined]\n",
      " [6] \u001b[1mendof\u001b[22m\u001b[22m at \u001b[1m./abstractarray.jl:127\u001b[22m\u001b[22m [inlined]\n",
      " [7] \u001b[1moptimize_ticks_typed\u001b[22m\u001b[22m\u001b[1m(\u001b[22m\u001b[22m::Float64, ::Float64, ::Bool, ::Array{Tuple{Float64,Float64},1}, ::Int64, ::Int64, ::Int64, ::Float64, ::Float64, ::Float64, ::Float64, ::Bool, ::Void\u001b[1m)\u001b[22m\u001b[22m at \u001b[1m/Users/kshyatt/.julia/v0.6/PlotUtils/src/ticks.jl:162\u001b[22m\u001b[22m\n",
      " [8] \u001b[1m(::PlotUtils.#kw##optimize_ticks)\u001b[22m\u001b[22m\u001b[1m(\u001b[22m\u001b[22m::Array{Any,1}, ::PlotUtils.#optimize_ticks, ::Float64, ::Float64\u001b[1m)\u001b[22m\u001b[22m at \u001b[1m./<missing>:0\u001b[22m\u001b[22m\n",
      " [9] \u001b[1moptimal_ticks_and_labels\u001b[22m\u001b[22m\u001b[1m(\u001b[22m\u001b[22m::Plots.Axis, ::Void\u001b[1m)\u001b[22m\u001b[22m at \u001b[1m/Users/kshyatt/.julia/v0.6/Plots/src/axes.jl:185\u001b[22m\u001b[22m\n",
      " [10] \u001b[1mget_ticks\u001b[22m\u001b[22m\u001b[1m(\u001b[22m\u001b[22m::Plots.Axis\u001b[1m)\u001b[22m\u001b[22m at \u001b[1m/Users/kshyatt/.julia/v0.6/Plots/src/axes.jl:228\u001b[22m\u001b[22m\n",
      " [11] \u001b[1mtick_padding\u001b[22m\u001b[22m\u001b[1m(\u001b[22m\u001b[22m::Plots.Axis\u001b[1m)\u001b[22m\u001b[22m at \u001b[1m/Users/kshyatt/.julia/v0.6/Plots/src/backends.jl:71\u001b[22m\u001b[22m\n",
      " [12] \u001b[1m_update_min_padding!\u001b[22m\u001b[22m\u001b[1m(\u001b[22m\u001b[22m::Plots.Subplot{Plots.PlotlyBackend}\u001b[1m)\u001b[22m\u001b[22m at \u001b[1m/Users/kshyatt/.julia/v0.6/Plots/src/backends.jl:101\u001b[22m\u001b[22m\n",
      " [13] \u001b[1m_collect\u001b[22m\u001b[22m\u001b[1m(\u001b[22m\u001b[22m::Array{Plots.AbstractLayout,2}, ::Base.Generator{Array{Plots.AbstractLayout,2},Plots.#_update_min_padding!}, ::Base.EltypeUnknown, ::Base.HasShape\u001b[1m)\u001b[22m\u001b[22m at \u001b[1m./array.jl:442\u001b[22m\u001b[22m\n",
      " [14] \u001b[1m_update_min_padding!\u001b[22m\u001b[22m\u001b[1m(\u001b[22m\u001b[22m::Plots.GridLayout\u001b[1m)\u001b[22m\u001b[22m at \u001b[1m/Users/kshyatt/.julia/v0.6/Plots/src/layouts.jl:302\u001b[22m\u001b[22m\n",
      " [15] \u001b[1mprepare_output\u001b[22m\u001b[22m\u001b[1m(\u001b[22m\u001b[22m::Plots.Plot{Plots.PlotlyBackend}\u001b[1m)\u001b[22m\u001b[22m at \u001b[1m/Users/kshyatt/.julia/v0.6/Plots/src/plot.jl:254\u001b[22m\u001b[22m\n",
      " [16] \u001b[1mdisplay\u001b[22m\u001b[22m\u001b[1m(\u001b[22m\u001b[22m::Plots.PlotsDisplay, ::Plots.Plot{Plots.PlotlyBackend}\u001b[1m)\u001b[22m\u001b[22m at \u001b[1m/Users/kshyatt/.julia/v0.6/Plots/src/output.jl:133\u001b[22m\u001b[22m\n",
      " [17] \u001b[1mgui\u001b[22m\u001b[22m\u001b[1m(\u001b[22m\u001b[22m::Plots.Plot{Plots.PlotlyBackend}\u001b[1m)\u001b[22m\u001b[22m at \u001b[1m/Users/kshyatt/.julia/v0.6/Plots/src/output.jl:123\u001b[22m\u001b[22m (repeats 2 times)\n",
      " [18] \u001b[1minclude_string\u001b[22m\u001b[22m\u001b[1m(\u001b[22m\u001b[22m::String, ::String\u001b[1m)\u001b[22m\u001b[22m at \u001b[1m./loading.jl:498\u001b[22m\u001b[22m\n",
      " [19] \u001b[1mexecute_request\u001b[22m\u001b[22m\u001b[1m(\u001b[22m\u001b[22m::ZMQ.Socket, ::IJulia.Msg\u001b[1m)\u001b[22m\u001b[22m at \u001b[1m/Users/kshyatt/.julia/v0.6/IJulia/src/execute_request.jl:156\u001b[22m\u001b[22m\n",
      " [20] \u001b[1meventloop\u001b[22m\u001b[22m\u001b[1m(\u001b[22m\u001b[22m::ZMQ.Socket\u001b[1m)\u001b[22m\u001b[22m at \u001b[1m/Users/kshyatt/.julia/v0.6/IJulia/src/eventloop.jl:8\u001b[22m\u001b[22m\n",
      " [21] \u001b[1m(::IJulia.##9#12)\u001b[22m\u001b[22m\u001b[1m(\u001b[22m\u001b[22m\u001b[1m)\u001b[22m\u001b[22m at \u001b[1m./task.jl:335\u001b[22m\u001b[22m\n",
      "while loading In[25], in expression starting on line 17\n"
     ]
    }
   ],
   "source": [
    "using Plots\n",
    "plotly()\n",
    "plot(fmt=:png)\n",
    "hs = logspace(-2., 2., 10)\n",
    "Ls = [4, 6, 8, 10, 12]\n",
    "for L in Ls\n",
    "    M = zeros(hs)\n",
    "    for (i,h) in enumerate(hs)\n",
    "        H, basis = TransverseFieldIsing(8, h)\n",
    "        vals, vecs = eig(H)\n",
    "        groundstate = vecs[:,1]\n",
    "        M[i] = magnetization(groundstate, basis)\n",
    "    end\n",
    "    plot!(hs, M, label=\"L=$L\")\n",
    "end\n",
    "plot!(xscale=:log)\n",
    "gui()"
   ]
  },
  {
   "cell_type": "markdown",
   "metadata": {},
   "source": [
    "## Exercise\n",
    "\n",
    "So far we have seen functions to compute the energy, and compute and plot the magnetization. There are many other physically interesting quantities we could plot! Try plotting the [magnetic susceptibility](https://en.wikipedia.org/wiki/Magnetic_susceptibility) - how does it vary across the transition?"
   ]
  },
  {
   "cell_type": "code",
   "execution_count": null,
   "metadata": {
    "collapsed": true
   },
   "outputs": [],
   "source": []
  }
 ],
 "metadata": {
  "kernelspec": {
   "display_name": "Julia 0.6.0-rc1",
   "language": "julia",
   "name": "julia-0.6"
  },
  "language_info": {
   "file_extension": ".jl",
   "mimetype": "application/julia",
   "name": "julia",
   "version": "0.6.0"
  }
 },
 "nbformat": 4,
 "nbformat_minor": 2
}
