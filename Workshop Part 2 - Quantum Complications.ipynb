{
 "cells": [
  {
   "cell_type": "markdown",
   "metadata": {},
   "source": [
    "## Goals of this part\n",
    "1. Extend our simple model to the more realistic quantum domain\n",
    "2. Think about how sparse/dense linear algebra will affect performance\n",
    "3. Use some Julia plotting functionality to explore the physics"
   ]
  },
  {
   "cell_type": "markdown",
   "metadata": {},
   "source": [
    "Now we want to add in some quantum features. Essentially what we will do is add some more interactions (super/sub-diagonals) such that the matrix (Hamiltonian) is no longer diagonal in the computation basis. In general this will make finding the lowest energy state very hard! The model we will study is called the *transverse field quantum Ising model*:\n",
    "\n",
    "$$ \\hat{H} = -\\sum_{\\langle i, j \\rangle} \\hat{\\sigma}_i^z \\otimes \\hat{\\sigma}_j^z - h\\sum_i \\hat{\\sigma}_i^x $$\n",
    "\n",
    "Now, instead of just being *numbers* the $\\hat{\\sigma}$ are 2x2 *matrices*. I've neglected to write a bunch of outer products with the identity. What's going on is that $\\hat{\\sigma}_x$ acts as a \"flipper\", taking up spins to down and vice versa:\n",
    "\n",
    "$$ \\hat{\\sigma}^x\\left| 1 \\right\\rangle = \\left| 0 \\right\\rangle $$\n",
    "\n",
    "and\n",
    "\n",
    "$$ \\hat{\\sigma}^x\\left| 0 \\right\\rangle = \\left| 1 \\right\\rangle $$\n",
    "\n",
    "Clearly, the addition of a bunch of these means our resulting $\\hat{H}$ above is *not* diagonal in the simluation basis, at least as long as $h$ is nonzero. (If you need to convince yourself, write out the full 4x4 $\\hat{H}$ for a system with just 2 sites.)\n",
    "\n",
    "$h$ controls how likely it is we will flip a particular site. We will use our simulation to investigate its effects. It's easy to write code to *generate* this matrix:"
   ]
  },
  {
   "cell_type": "code",
   "execution_count": 1,
   "metadata": {},
   "outputs": [
    {
     "data": {
      "text/plain": [
       "2×2 Array{Int64,2}:\n",
       " 1   0\n",
       " 0  -1"
      ]
     },
     "execution_count": 1,
     "metadata": {},
     "output_type": "execute_result"
    }
   ],
   "source": [
    "σᶻ = [1 0; 0 -1]"
   ]
  },
  {
   "cell_type": "code",
   "execution_count": 2,
   "metadata": {},
   "outputs": [
    {
     "data": {
      "text/plain": [
       "2×2 Array{Int64,2}:\n",
       " 0  1\n",
       " 1  0"
      ]
     },
     "execution_count": 2,
     "metadata": {},
     "output_type": "execute_result"
    }
   ],
   "source": [
    "σˣ = [0 1; 1 0]"
   ]
  },
  {
   "cell_type": "code",
   "execution_count": 3,
   "metadata": {},
   "outputs": [
    {
     "data": {
      "text/plain": [
       "2-element Array{Int64,1}:\n",
       " 0\n",
       " 1"
      ]
     },
     "execution_count": 3,
     "metadata": {},
     "output_type": "execute_result"
    }
   ],
   "source": [
    "σˣ * [1,0]"
   ]
  },
  {
   "cell_type": "code",
   "execution_count": 4,
   "metadata": {},
   "outputs": [
    {
     "data": {
      "text/plain": [
       "2-element Array{Int64,1}:\n",
       " 1\n",
       " 0"
      ]
     },
     "execution_count": 4,
     "metadata": {},
     "output_type": "execute_result"
    }
   ],
   "source": [
    "σˣ * [0, 1]"
   ]
  },
  {
   "cell_type": "code",
   "execution_count": 5,
   "metadata": {},
   "outputs": [
    {
     "data": {
      "text/plain": [
       "4×4 Array{Int64,2}:\n",
       " 1   0   0  0\n",
       " 0  -1   0  0\n",
       " 0   0  -1  0\n",
       " 0   0   0  1"
      ]
     },
     "execution_count": 5,
     "metadata": {},
     "output_type": "execute_result"
    }
   ],
   "source": [
    "kron(σᶻ,σᶻ) # this is σᶻᵢ σᶻⱼ"
   ]
  },
  {
   "cell_type": "markdown",
   "metadata": {},
   "source": [
    "In the formula above, I elided some details. Let's look closer:\n",
    "\n",
    "$$ \\hat{H} = -\\sum_{\\langle i, j \\rangle} \\hat{\\sigma}_i^z \\otimes \\hat{\\sigma}_j^z - h\\sum_i \\hat{\\sigma}_i^x $$\n",
    "\n",
    "We want to make a matrix that's $2^L \\times 2^L$ from a bunch of $4 \\times 4$ and $2 \\times 2$ matrices. Usually, for compactness, we \"suppress\" identity matrices and treat them as implicit. Our 4 site Hamiltonian should read:\n",
    "\n",
    "$$ \\hat{H}_4 = -\\hat{\\sigma}_1^z \\hat{\\sigma}_2^z \\hat{I}_3 \\hat{I}_4 - \\hat{I}_1 \\hat{\\sigma}_2^z \\hat{\\sigma}_3^z \\hat{I}_4 - \\hat{I}_1 \\hat{I}_2 \\hat{\\sigma}_3^z \\hat{\\sigma}_4^z - \\hat{\\sigma}^z_1 \\hat{I}_2 \\hat{I}_3 \\hat{\\sigma}_4^z - h\\left(\\hat{\\sigma}_1^x\\hat{I}_2 \\hat{I}_3\\hat{I}_4 + \\hat{I}_1 \\hat{\\sigma}_2^x \\hat{I}_3\\hat{I}_4 +\\hat{I}_1 \\hat{I}_2 \\hat{\\sigma}_3^x\\hat{I}_4 + \\hat{I}_1 \\hat{I}_2 \\hat{I}_3 \\hat{\\sigma}_4^x\\right) $$\n",
    "\n",
    "Now we have a sum of matrices of the right dimension. But what a pain to look at! The short-hand we have above is easier to work with and reason about, but if you get confused, refer back to this. **Note** here that where I've written $ABCD$ I mean $A \\otimes B \\otimes C \\otimes D$ (we'd really run out of room with all those $\\otimes$!).\n",
    "\n",
    "We can see this horrorshow in action:"
   ]
  },
  {
   "cell_type": "code",
   "execution_count": 6,
   "metadata": {},
   "outputs": [
    {
     "data": {
      "text/plain": [
       "16×16 Array{Float64,2}:\n",
       " -3.0  -0.0  -2.0  -0.0  -2.0  -0.0  …  -0.0  -0.0  -0.0  -0.0  -0.0  -0.0\n",
       " -0.0  -1.0  -0.0  -2.0  -0.0  -2.0     -0.0  -0.0  -0.0   0.0  -0.0  -0.0\n",
       " -2.0  -0.0   1.0   0.0  -0.0  -0.0     -2.0   0.0  -0.0  -0.0   0.0  -0.0\n",
       " -0.0  -2.0   0.0  -1.0  -0.0  -0.0      0.0  -2.0  -0.0  -0.0  -0.0  -0.0\n",
       " -2.0  -0.0  -0.0  -0.0   1.0   0.0     -0.0  -0.0  -2.0   0.0  -0.0  -0.0\n",
       " -0.0  -2.0  -0.0  -0.0   0.0   3.0  …  -0.0  -0.0   0.0  -2.0  -0.0  -0.0\n",
       " -0.0  -0.0  -2.0  -0.0  -2.0   0.0      0.0  -0.0  -0.0  -0.0  -2.0  -0.0\n",
       " -0.0  -0.0  -0.0  -2.0   0.0  -2.0     -0.0  -0.0  -0.0  -0.0  -0.0  -2.0\n",
       " -2.0  -0.0  -0.0  -0.0  -0.0  -0.0     -2.0   0.0  -2.0  -0.0  -0.0  -0.0\n",
       " -0.0  -2.0  -0.0  -0.0  -0.0   0.0      0.0  -2.0  -0.0  -2.0  -0.0  -0.0\n",
       " -0.0  -0.0  -2.0   0.0  -0.0  -0.0  …   3.0   0.0  -0.0  -0.0  -2.0  -0.0\n",
       " -0.0  -0.0   0.0  -2.0  -0.0  -0.0      0.0   1.0  -0.0  -0.0  -0.0  -2.0\n",
       " -0.0  -0.0  -0.0  -0.0  -2.0   0.0     -0.0  -0.0  -1.0   0.0  -2.0  -0.0\n",
       " -0.0   0.0  -0.0  -0.0   0.0  -2.0     -0.0  -0.0   0.0   1.0  -0.0  -2.0\n",
       " -0.0  -0.0   0.0  -0.0  -0.0  -0.0     -2.0  -0.0  -2.0  -0.0  -1.0  -0.0\n",
       " -0.0  -0.0  -0.0  -0.0  -0.0  -0.0  …  -0.0  -2.0  -0.0  -2.0  -0.0  -3.0"
      ]
     },
     "execution_count": 6,
     "metadata": {},
     "output_type": "execute_result"
    }
   ],
   "source": [
    "# An example of a 4 site Hamiltonian\n",
    "\n",
    "H = -kron(kron(kron(σᶻ,σᶻ), eye(2)), eye(2)) - kron(eye(2), kron(kron(σᶻ,σᶻ), eye(2))) - kron(eye(2), kron(eye(2),kron(σᶻ,σᶻ)))\n",
    "H -= 2*(kron(kron(kron(σˣ, eye(2)), eye(2)), eye(2)) + kron(eye(2), kron(kron(σˣ, eye(2)), eye(2))) + kron(eye(2), kron(eye(2), kron(σˣ, eye(2)))))"
   ]
  },
  {
   "cell_type": "markdown",
   "metadata": {},
   "source": [
    "Now we should think about how to represent the physical spin states. We're going to have `0` or `false` represent \"spin up\" and `1` or `true` represent \"spin down\". This choice is 100% arbitrary and it doesn't matter as long as we stay internally consistent.\n",
    "\n",
    "We can save on storage space by using Julia's native `BitArray` type. We can even build our basis the naive way and convert it at some up-front performance cost. Or, we can build the list of `BitArray`s ourselves:"
   ]
  },
  {
   "cell_type": "code",
   "execution_count": 5,
   "metadata": {},
   "outputs": [
    {
     "data": {
      "text/plain": [
       "TransverseFieldIsing (generic function with 2 methods)"
      ]
     },
     "execution_count": 5,
     "metadata": {},
     "output_type": "execute_result"
    }
   ],
   "source": [
    "function bit_rep(element::Integer, L::Integer)\n",
    "    bit_rep = falses(L)\n",
    "    for site in 1:L\n",
    "       bit_rep[site] = (element >> (site - 1)) & 1\n",
    "    end\n",
    "    return bit_rep\n",
    "end\n",
    "\n",
    "function int_rep(element::BitVector, L::Integer)\n",
    "    int = 1\n",
    "    for site in 1:L\n",
    "       int += (element[site] << (site - 1))\n",
    "    end\n",
    "    return int\n",
    "end\n",
    "\n",
    "function generate_basis(L::Integer)\n",
    "    basis = fill(falses(L), 2^L)\n",
    "    for elem in 1:2^L\n",
    "        basis[elem] = bit_rep(elem-1, L)\n",
    "        # elem - 1 because we want 0000000 to correspond to 0, not 1\n",
    "    end\n",
    "    return basis\n",
    "end\n",
    "\n",
    "function TransverseFieldIsing(L::Integer, h::Real=0.)\n",
    "    basis = generate_basis(L)\n",
    "    N = L\n",
    "    H = zeros(2^N, 2^N)\n",
    "    bonds = zip(collect(1:N-1), collect(2:N))\n",
    "    for (index, element) in enumerate(basis)\n",
    "        # the diagonal part is easy\n",
    "        diag_term = 0.\n",
    "        for (site_i, site_j) in bonds\n",
    "            diag_term -= !xor(element[site_i], element[site_j])\n",
    "        end\n",
    "        H[index, index] = diag_term\n",
    "        # off diagonal part\n",
    "        for site in 1:N\n",
    "            new_element = copy(element)\n",
    "            # flip the bit on the site\n",
    "            new_element[site] ⊻= true\n",
    "            new_index = findfirst(basis, new_element)\n",
    "            H[index, new_index] = -h\n",
    "        end\n",
    "    end\n",
    "    return Hermitian(H), basis\n",
    "end"
   ]
  },
  {
   "cell_type": "markdown",
   "metadata": {},
   "source": [
    "Some things to note:\n",
    "- This matrix is very sparse! That's pretty generic to quantum systems, and it's a mixed blessing.\n",
    "- For larger systems, it may make sense to use the Julia sparse matrix types (we'll see how to do this shortly).\n",
    "- For now we have set $h$ to be the same everywhere. We aren't *forced* to do this - we could introduce *disorder* and see more interesting physics. Something like making $h_i$ dependent on site `i` using `rand(L)`, or even [Distributions.jl](https://github.com/JuliaStats/Distributions.jl). This is a good **exercise** for interested non-physicists.\n",
    "\n",
    "We can still use Julia's linear algebra methods like `eigfact`, of course, they'll just be slower:"
   ]
  },
  {
   "cell_type": "code",
   "execution_count": 8,
   "metadata": {},
   "outputs": [
    {
     "name": "stdout",
     "output_type": "stream",
     "text": [
      "  0.344476 seconds (67.35 k allocations: 5.346 MiB)\n"
     ]
    },
    {
     "data": {
      "text/plain": [
       "Base.LinAlg.Eigen{Float64,Float64,Array{Float64,2},Array{Float64,1}}([-11.0084, -11.0084, -9.86622, -9.86622, -9.53473, -9.53473, -9.14576, -9.14576, -8.77229, -8.77229  …  1.77229, 1.77229, 2.14576, 2.14576, 2.53473, 2.53473, 2.86622, 2.86622, 4.00835, 4.00835], [0.0 -0.241289 … 0.0312081 0.0; 0.0 -0.180791 … -0.0390783 0.0; … ; 0.180791 0.0 … 0.0 0.0390783; 0.241289 0.0 … 0.0 -0.0312081])"
      ]
     },
     "execution_count": 8,
     "metadata": {},
     "output_type": "execute_result"
    }
   ],
   "source": [
    "H, basis = TransverseFieldIsing(8, 1.)\n",
    "@time eigfact(H)"
   ]
  },
  {
   "cell_type": "markdown",
   "metadata": {},
   "source": [
    "## Dude, Where's My Parallelism?\n",
    "\n",
    "For many interesting physical problems (one of which we're about to see) we *don't need* to use multiple nodes anymore. This is good - parallel computing is really cool but it's also really difficult to do well! The promised parallelism is coming! But we should all be happy we can practically look at (some) many-body physics with doing many-body computing (yet)."
   ]
  },
  {
   "cell_type": "markdown",
   "metadata": {},
   "source": [
    "## It's Just a Phase\n",
    "\n",
    "Let's vary $h$ and see what happens. Since we're looking at *quantum magnets* we will compute the *overall magnetization*. This quantity is:\n",
    "\n",
    "$$ M = \\frac{1}{N}\\sum_{i} \\sigma^z_i $$\n",
    "\n",
    "where $\\sigma^z_i$ is the value of the spin on site $i$ when we measure. So, for example:\n",
    "\n",
    "If $M$ is `0` there is no overall magnetic moment. We divide by the number of sites so that we can compare results for various systems. Since we're using `0` to represent spin down ($\\sigma^z = -1$), and `1` to represent spin up ($\\sigma^z = +1$), in our code this will look like:"
   ]
  },
  {
   "cell_type": "code",
   "execution_count": 9,
   "metadata": {},
   "outputs": [
    {
     "data": {
      "text/plain": [
       "magnetization (generic function with 1 method)"
      ]
     },
     "execution_count": 9,
     "metadata": {},
     "output_type": "execute_result"
    }
   ],
   "source": [
    "function magnetization(state::Vector, basis)::Float64\n",
    "    M = 0.\n",
    "    for (index, element) in enumerate(basis)\n",
    "        element_M = 0.\n",
    "        for spin in element\n",
    "            element_M += (state[index]^2 * (spin ? 1 : -1))/length(element)\n",
    "        end\n",
    "        @assert abs(element_M) <= 1\n",
    "        M += abs(element_M)\n",
    "    end\n",
    "    return M\n",
    "end"
   ]
  },
  {
   "cell_type": "markdown",
   "metadata": {},
   "source": [
    "Now we would like to examine the effects of $h$. We will:\n",
    "  1. Find a variety of $h$ to look at.\n",
    "  2. For each, compute the *lowest energy eigenvector* (groundstate) of the corresponding Hamiltonian.\n",
    "  3. For each groundstate, compute the overall magnetization $M$.\n",
    "  4. Plot $M(h)$ for a variety of system sizes, and see if anything cool happens."
   ]
  },
  {
   "cell_type": "code",
   "execution_count": 4,
   "metadata": {},
   "outputs": [
    {
     "ename": "LoadError",
     "evalue": "\u001b[91mInterruptException:\u001b[39m",
     "output_type": "error",
     "traceback": [
      "\u001b[91mInterruptException:\u001b[39m",
      "",
      "Stacktrace:",
      " [1] \u001b[1mBitArray{1}\u001b[22m\u001b[22m\u001b[1m(\u001b[22m\u001b[22m::Int64\u001b[1m)\u001b[22m\u001b[22m at \u001b[1m./bitarray.jl:0\u001b[22m\u001b[22m",
      " [2] \u001b[1mTransverseFieldIsing\u001b[22m\u001b[22m\u001b[1m(\u001b[22m\u001b[22m::Int64, ::Float64\u001b[1m)\u001b[22m\u001b[22m at \u001b[1m./In[3]:62\u001b[22m\u001b[22m",
      " [3] \u001b[1mmacro expansion\u001b[22m\u001b[22m at \u001b[1m./In[4]:7\u001b[22m\u001b[22m [inlined]",
      " [4] \u001b[1manonymous\u001b[22m\u001b[22m at \u001b[1m./<missing>:?\u001b[22m\u001b[22m"
     ]
    }
   ],
   "source": [
    "using GR\n",
    "hs = logspace(-2., 2., 10)\n",
    "Ls = collect(2:10)\n",
    "for L in Ls\n",
    "    M = zeros(hs)\n",
    "    for (i,h) in enumerate(hs)\n",
    "        H, basis = TransverseFieldIsing(L, h)\n",
    "        vals, vecs = eig(H)\n",
    "        groundstate = vecs[:,1]\n",
    "        M[i] = magnetization(groundstate, basis)\n",
    "    end\n",
    "    semilogx(hs, M)\n",
    "    println(M)\n",
    "    hold(true)\n",
    "end\n",
    "legend(map(x->\"L=$x\", Ls)...)"
   ]
  },
  {
   "cell_type": "markdown",
   "metadata": {},
   "source": [
    "## Exercise\n",
    "\n",
    "So far we have seen functions to compute the energy, and compute and plot the magnetization. There are many other physically interesting quantities we could plot! Try plotting the [magnetic susceptibility](https://en.wikipedia.org/wiki/Magnetic_susceptibility) - how does it vary across the transition?"
   ]
  },
  {
   "cell_type": "code",
   "execution_count": null,
   "metadata": {
    "collapsed": true
   },
   "outputs": [],
   "source": []
  }
 ],
 "metadata": {
  "kernelspec": {
   "display_name": "Julia 0.6.0-rc1",
   "language": "julia",
   "name": "julia-0.6"
  },
  "language_info": {
   "file_extension": ".jl",
   "mimetype": "application/julia",
   "name": "julia",
   "version": "0.6.0"
  }
 },
 "nbformat": 4,
 "nbformat_minor": 2
}
