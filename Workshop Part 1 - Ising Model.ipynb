{
 "cells": [
  {
   "cell_type": "markdown",
   "metadata": {},
   "source": [
    "# Part 1: The Ising Model"
   ]
  },
  {
   "cell_type": "markdown",
   "metadata": {},
   "source": [
    "We'll start with the *classical* Ising model, a simple physical model of magnetism. As we add complexity to the model, we'll be able to represent more interesting physics more accurately. Hopefully, the complexity of our *code* will grow more slowly than the complexity of the physics."
   ]
  },
  {
   "cell_type": "markdown",
   "metadata": {},
   "source": [
    "## Introduction to the Model\n",
    "\n",
    "The Ising model is a powerful but simple model of magnetism in materials. Small constituents interact with each other to give \"macroscopic\" phenomena, like long range correlations we observe as ferromagnetism.\n",
    "\n",
    "Let's make this a little concrete. For the workshop, we'll work in *two dimensions* on a *square lattice*. This is both easy for us to visualize and easy to represent on a computer. We have a square crystal, where on each site in the crystal, the *spin* (local magnetic moment) can be *up* or *down*. These local magnetic moments will add up (or not) to give the macroscopic moment you'd see in a lodestone.\n",
    "\n",
    "Here's a sample configuration, represented in many equivalent ways:\n",
    "\n",
    "\n",
    "Another model you might have seen built out of similar constituents is Conway's Game of Life. If you're familiar with cellular automata, this stuff might be sounding familiar as well."
   ]
  },
  {
   "cell_type": "markdown",
   "metadata": {},
   "source": [
    "Physical systems want to minimize their energy. The Ising model is a set of energetic interactions which add up to give the total energy of the system, which we'll write Julia code to minimize. By simulating the model we can learn about what physics is favourable in different parameter regimes. Here is the (classical) energy function, which we call a Hamiltonian:\n",
    "\n",
    "$$ H = -\\sum_{\\langle i, j \\rangle} \\sigma_i \\sigma_j $$\n",
    "\n",
    "There are a couple things we should explain here:\n",
    "  - $\\langle i, j \\rangle$ means \"nearest neighbors\", so look at how site 1 and site 2 interact, but not site 1 and site 13\n",
    "  - $\\sigma_i$ is the local configuration on site $i$. It can be 0 (down, black) or 1 (up, one). We can specify the configuration of the entire system $\\{\\sigma\\}$ with a list of all the local configurations.\n",
    "  \n",
    "So, this classical Hamiltonian says \"sum up over all the connections on the square grid - neighbors having the same value is good, having different values is bad\".\n",
    "\n",
    "Note that there is *no* preferred direction/value - all being 0 is just as good as all being 1. "
   ]
  },
  {
   "cell_type": "markdown",
   "metadata": {
    "collapsed": true
   },
   "source": [
    "Now we can write down some code! Right now our Hamiltonian just measures the energy of a given configuration - it is *diagonal* in the spin basis. So:"
   ]
  },
  {
   "cell_type": "code",
   "execution_count": null,
   "metadata": {
    "collapsed": true
   },
   "outputs": [],
   "source": [
    "L = 10\n",
    "function energy(config)\n",
    "    E = 0.\n",
    "    for i in 1:L*L\n",
    "        # horizontal site\n",
    "        j = i % L + L*div(i,L)\n",
    "        E += -1 + 2*xor(config[i],config[j])\n",
    "        # vertical site\n",
    "        j = (i + L)%(L*L)\n",
    "        E += -1 + 2*xor(config[i],config[j])\n",
    "    end\n",
    "    return E\n",
    "end\n",
    "\n",
    "# make a matrix H\n",
    "H = zeros(2^L, 2^L)\n",
    "basis = zeros(Vector{Bool}, 2^L)\n",
    "\n",
    "# translate the integer into a bit-rep\n",
    "for element in 1:2^L\n",
    "\n",
    "end\n"
   ]
  }
 ],
 "metadata": {
  "kernelspec": {
   "display_name": "Julia 0.6.0-rc1",
   "language": "julia",
   "name": "julia-0.6"
  },
  "language_info": {
   "file_extension": ".jl",
   "mimetype": "application/julia",
   "name": "julia",
   "version": "0.6.0"
  }
 },
 "nbformat": 4,
 "nbformat_minor": 2
}
